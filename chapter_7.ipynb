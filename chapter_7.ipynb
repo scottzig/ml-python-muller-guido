{
 "cells": [
  {
   "cell_type": "markdown",
   "metadata": {},
   "source": [
    "# Working with Text Data"
   ]
  },
  {
   "cell_type": "markdown",
   "metadata": {},
   "source": [
    "Text data is usually represented as strings, made up of characters. We need a way to process this data before using it in a machine learning algorithm."
   ]
  },
  {
   "cell_type": "markdown",
   "metadata": {},
   "source": [
    "## Types of Data Represented as Strings"
   ]
  },
  {
   "cell_type": "markdown",
   "metadata": {},
   "source": [
    "Text is typically represented as strings, but strings are not necessarily just text. The only way to know how to treat a string feature is to look at the data. The four kinds of string data you could see are:\n",
    "\n",
    "- Categorical data\n",
    "    - Comes from a fixed list.\n",
    "- Free strings that can be semantically mapped to categories\n",
    "    - Data likely taken from a text field that can be mapped to categories.\n",
    "- Structured string data\n",
    "    - This type of data does not correspond to fixed categories but may still have some underlying structure. It's often very difficult to parse.\n",
    "- Text data\n",
    "    - This is freeform text data."
   ]
  },
  {
   "cell_type": "code",
   "execution_count": null,
   "metadata": {},
   "outputs": [],
   "source": []
  }
 ],
 "metadata": {
  "kernelspec": {
   "display_name": ".venv",
   "language": "python",
   "name": "python3"
  },
  "language_info": {
   "name": "python",
   "version": "3.6.8"
  }
 },
 "nbformat": 4,
 "nbformat_minor": 2
}
